{
  "nbformat": 4,
  "nbformat_minor": 0,
  "metadata": {
    "colab": {
      "name": "Python lab 2.ipynb",
      "provenance": [],
      "authorship_tag": "ABX9TyNH/gvVZYUqJ+/g1KeT0QGa",
      "include_colab_link": true
    },
    "kernelspec": {
      "name": "python3",
      "display_name": "Python 3"
    }
  },
  "cells": [
    {
      "cell_type": "markdown",
      "metadata": {
        "id": "view-in-github",
        "colab_type": "text"
      },
      "source": [
        "<a href=\"https://colab.research.google.com/github/Taseen12345/2555/blob/master/Python_lab_2.ipynb\" target=\"_parent\"><img src=\"https://colab.research.google.com/assets/colab-badge.svg\" alt=\"Open In Colab\"/></a>"
      ]
    },
    {
      "cell_type": "code",
      "metadata": {
        "colab": {
          "base_uri": "https://localhost:8080/"
        },
        "id": "mADZ6AT1y_QS",
        "outputId": "58301f0a-d6d9-4668-e6df-f3fbe7dbf6c9"
      },
      "source": [
        "print(\"tASEEN\")"
      ],
      "execution_count": 1,
      "outputs": [
        {
          "output_type": "stream",
          "text": [
            "tASEEN\n"
          ],
          "name": "stdout"
        }
      ]
    }
  ]
}
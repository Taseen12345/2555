{
  "nbformat": 4,
  "nbformat_minor": 0,
  "metadata": {
    "colab": {
      "name": "Python Project.ipynb",
      "provenance": [],
      "authorship_tag": "ABX9TyNkIVy7u/hfNnmOon1CUraN",
      "include_colab_link": true
    },
    "kernelspec": {
      "name": "python3",
      "display_name": "Python 3"
    }
  },
  "cells": [
    {
      "cell_type": "markdown",
      "metadata": {
        "id": "view-in-github",
        "colab_type": "text"
      },
      "source": [
        "<a href=\"https://colab.research.google.com/github/Taseen12345/2555/blob/master/Python_Project%20lab%203%20task.ipynb\" target=\"_parent\"><img src=\"https://colab.research.google.com/assets/colab-badge.svg\" alt=\"Open In Colab\"/></a>"
      ]
    },
    {
      "cell_type": "code",
      "metadata": {
        "id": "0idwk-N3bT63",
        "colab": {
          "base_uri": "https://localhost:8080/"
        },
        "outputId": "b0b758fc-0109-489b-9367-352a0235de11"
      },
      "source": [
        "data=[]\r\n",
        "from termcolor import colored\r\n",
        "choice='random'\r\n",
        "def line():\r\n",
        "  print('---------------------------------------')\r\n",
        "def show_course():\r\n",
        "  line()\r\n",
        "  print(colored(('Your Courses'),'blue'))\r\n",
        "  line()\r\n",
        "  print(colored(('1. Add Course'),'green'))  \r\n",
        "  print('2 .View Courses')\r\n",
        "  print(colored(('3. Unenroll Course'),'red'))\r\n",
        "  print('4. Exit Menu')\r\n",
        "  line()\r\n",
        "  choice=input('Enter Your Choice:')\r\n",
        "  return choice\r\n",
        "\r\n",
        "while choice!='4':\r\n",
        "  choice=show_course()\r\n",
        "  if choice=='1':\r\n",
        "    course=input('Enroll Your Course: ' )\r\n",
        "    data.append(course)\r\n",
        "    print(course,'course has been enrolled')\r\n",
        "  elif choice=='2':\r\n",
        "    print('List of all of your enroll courses')\r\n",
        "    for course in data:\r\n",
        "      print(course)\r\n",
        "  elif choice=='3':\r\n",
        "    course=input('Unenroll Your Course: ')\r\n",
        "    if course in data:\r\n",
        "      data.remove(course)\r\n",
        "      print('You have been unenrolled from',course,'course')\r\n",
        "    else:\r\n",
        "       print('You are not enrolled in this course') \r\n",
        "  elif choice=='4':\r\n",
        "    print('You have been logged out ')\r\n",
        "  else:\r\n",
        "    print(\"Please again select 1,2 or 3 \")\r\n",
        "\r\n",
        "\r\n",
        "\r\n",
        "      \r\n",
        "      \r\n",
        "\r\n"
      ],
      "execution_count": null,
      "outputs": [
        {
          "output_type": "stream",
          "text": [
            "---------------------------------------\n",
            "\u001b[34mYour Courses\u001b[0m\n",
            "---------------------------------------\n",
            "\u001b[32m1. Add Course\u001b[0m\n",
            "2 .View Courses\n",
            "\u001b[31m3. Unenroll Course\u001b[0m\n",
            "4. Exit Menu\n",
            "---------------------------------------\n",
            "Enter Your Choice:1\n",
            "Enroll Your Course: 1\n",
            "1 course has been enrolled\n",
            "---------------------------------------\n",
            "\u001b[34mYour Courses\u001b[0m\n",
            "---------------------------------------\n",
            "\u001b[32m1. Add Course\u001b[0m\n",
            "2 .View Courses\n",
            "\u001b[31m3. Unenroll Course\u001b[0m\n",
            "4. Exit Menu\n",
            "---------------------------------------\n",
            "Enter Your Choice:3\n",
            "Unenroll Your Course: 2\n",
            "You are not enrolled in this course\n",
            "---------------------------------------\n",
            "\u001b[34mYour Courses\u001b[0m\n",
            "---------------------------------------\n",
            "\u001b[32m1. Add Course\u001b[0m\n",
            "2 .View Courses\n",
            "\u001b[31m3. Unenroll Course\u001b[0m\n",
            "4. Exit Menu\n",
            "---------------------------------------\n"
          ],
          "name": "stdout"
        }
      ]
    }
  ]
}